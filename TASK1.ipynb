{
  "nbformat": 4,
  "nbformat_minor": 0,
  "metadata": {
    "colab": {
      "name": "TASK1.ipynb",
      "provenance": []
    },
    "kernelspec": {
      "name": "python3",
      "display_name": "Python 3"
    },
    "language_info": {
      "name": "python"
    }
  },
  "cells": [
    {
      "cell_type": "markdown",
      "metadata": {
        "id": "icfBh_VjI4zW"
      },
      "source": [
        "#task 1 Prediction using Supervised ML"
      ]
    },
    {
      "cell_type": "markdown",
      "metadata": {
        "id": "6pLl-s8kYgQG"
      },
      "source": [
        "## for this task there are 9 sections as follows :\n",
        "## 1)data importing with pandas\n",
        "## 2) checking for outliers\n",
        "## 3) reshaping data because it only contains one dimension\n",
        "## 4) using different regression models for regression analysis\n",
        "## 5) spliting the data into train and test\n",
        "## 6) training data with each model\n",
        "## 7) ploting prediction and actual data\n",
        "## 8) evaluation of the test\n",
        "## 9) final result\n",
        "### the following are the neccessary packages for the task"
      ]
    },
    {
      "cell_type": "code",
      "metadata": {
        "id": "gHiKv_SQuPuc"
      },
      "source": [
        "import pandas as pd\n",
        "from sklearn.linear_model import LinearRegression,BayesianRidge\n",
        "from sklearn.cross_decomposition import PLSRegression\n",
        "from sklearn import svm \n",
        "from sklearn import tree\n",
        "from sklearn.ensemble import VotingRegressor\n",
        "from sklearn.neighbors import KNeighborsRegressor \n",
        "from sklearn.model_selection import train_test_split\n",
        "\n",
        "import matplotlib.pyplot as plt\n",
        "from random import sample\n",
        "import numpy as np\n",
        "import math"
      ],
      "execution_count": 3,
      "outputs": []
    },
    {
      "cell_type": "markdown",
      "metadata": {
        "id": "cb1vZnuuShMC"
      },
      "source": [
        "## 1)data importing with pandas"
      ]
    },
    {
      "cell_type": "code",
      "metadata": {
        "id": "mGBqAT74unpb",
        "colab": {
          "base_uri": "https://localhost:8080/",
          "height": 819
        },
        "outputId": "79f6072b-5331-4c14-daad-81b2cf4eddcc"
      },
      "source": [
        "data=pd.read_csv('https://raw.githubusercontent.com/AdiPersonalWorks/Random/master/student_scores%20-%20student_scores.csv')\n",
        "data"
      ],
      "execution_count": 4,
      "outputs": [
        {
          "output_type": "execute_result",
          "data": {
            "text/html": [
              "<div>\n",
              "<style scoped>\n",
              "    .dataframe tbody tr th:only-of-type {\n",
              "        vertical-align: middle;\n",
              "    }\n",
              "\n",
              "    .dataframe tbody tr th {\n",
              "        vertical-align: top;\n",
              "    }\n",
              "\n",
              "    .dataframe thead th {\n",
              "        text-align: right;\n",
              "    }\n",
              "</style>\n",
              "<table border=\"1\" class=\"dataframe\">\n",
              "  <thead>\n",
              "    <tr style=\"text-align: right;\">\n",
              "      <th></th>\n",
              "      <th>Hours</th>\n",
              "      <th>Scores</th>\n",
              "    </tr>\n",
              "  </thead>\n",
              "  <tbody>\n",
              "    <tr>\n",
              "      <th>0</th>\n",
              "      <td>2.5</td>\n",
              "      <td>21</td>\n",
              "    </tr>\n",
              "    <tr>\n",
              "      <th>1</th>\n",
              "      <td>5.1</td>\n",
              "      <td>47</td>\n",
              "    </tr>\n",
              "    <tr>\n",
              "      <th>2</th>\n",
              "      <td>3.2</td>\n",
              "      <td>27</td>\n",
              "    </tr>\n",
              "    <tr>\n",
              "      <th>3</th>\n",
              "      <td>8.5</td>\n",
              "      <td>75</td>\n",
              "    </tr>\n",
              "    <tr>\n",
              "      <th>4</th>\n",
              "      <td>3.5</td>\n",
              "      <td>30</td>\n",
              "    </tr>\n",
              "    <tr>\n",
              "      <th>5</th>\n",
              "      <td>1.5</td>\n",
              "      <td>20</td>\n",
              "    </tr>\n",
              "    <tr>\n",
              "      <th>6</th>\n",
              "      <td>9.2</td>\n",
              "      <td>88</td>\n",
              "    </tr>\n",
              "    <tr>\n",
              "      <th>7</th>\n",
              "      <td>5.5</td>\n",
              "      <td>60</td>\n",
              "    </tr>\n",
              "    <tr>\n",
              "      <th>8</th>\n",
              "      <td>8.3</td>\n",
              "      <td>81</td>\n",
              "    </tr>\n",
              "    <tr>\n",
              "      <th>9</th>\n",
              "      <td>2.7</td>\n",
              "      <td>25</td>\n",
              "    </tr>\n",
              "    <tr>\n",
              "      <th>10</th>\n",
              "      <td>7.7</td>\n",
              "      <td>85</td>\n",
              "    </tr>\n",
              "    <tr>\n",
              "      <th>11</th>\n",
              "      <td>5.9</td>\n",
              "      <td>62</td>\n",
              "    </tr>\n",
              "    <tr>\n",
              "      <th>12</th>\n",
              "      <td>4.5</td>\n",
              "      <td>41</td>\n",
              "    </tr>\n",
              "    <tr>\n",
              "      <th>13</th>\n",
              "      <td>3.3</td>\n",
              "      <td>42</td>\n",
              "    </tr>\n",
              "    <tr>\n",
              "      <th>14</th>\n",
              "      <td>1.1</td>\n",
              "      <td>17</td>\n",
              "    </tr>\n",
              "    <tr>\n",
              "      <th>15</th>\n",
              "      <td>8.9</td>\n",
              "      <td>95</td>\n",
              "    </tr>\n",
              "    <tr>\n",
              "      <th>16</th>\n",
              "      <td>2.5</td>\n",
              "      <td>30</td>\n",
              "    </tr>\n",
              "    <tr>\n",
              "      <th>17</th>\n",
              "      <td>1.9</td>\n",
              "      <td>24</td>\n",
              "    </tr>\n",
              "    <tr>\n",
              "      <th>18</th>\n",
              "      <td>6.1</td>\n",
              "      <td>67</td>\n",
              "    </tr>\n",
              "    <tr>\n",
              "      <th>19</th>\n",
              "      <td>7.4</td>\n",
              "      <td>69</td>\n",
              "    </tr>\n",
              "    <tr>\n",
              "      <th>20</th>\n",
              "      <td>2.7</td>\n",
              "      <td>30</td>\n",
              "    </tr>\n",
              "    <tr>\n",
              "      <th>21</th>\n",
              "      <td>4.8</td>\n",
              "      <td>54</td>\n",
              "    </tr>\n",
              "    <tr>\n",
              "      <th>22</th>\n",
              "      <td>3.8</td>\n",
              "      <td>35</td>\n",
              "    </tr>\n",
              "    <tr>\n",
              "      <th>23</th>\n",
              "      <td>6.9</td>\n",
              "      <td>76</td>\n",
              "    </tr>\n",
              "    <tr>\n",
              "      <th>24</th>\n",
              "      <td>7.8</td>\n",
              "      <td>86</td>\n",
              "    </tr>\n",
              "  </tbody>\n",
              "</table>\n",
              "</div>"
            ],
            "text/plain": [
              "    Hours  Scores\n",
              "0     2.5      21\n",
              "1     5.1      47\n",
              "2     3.2      27\n",
              "3     8.5      75\n",
              "4     3.5      30\n",
              "5     1.5      20\n",
              "6     9.2      88\n",
              "7     5.5      60\n",
              "8     8.3      81\n",
              "9     2.7      25\n",
              "10    7.7      85\n",
              "11    5.9      62\n",
              "12    4.5      41\n",
              "13    3.3      42\n",
              "14    1.1      17\n",
              "15    8.9      95\n",
              "16    2.5      30\n",
              "17    1.9      24\n",
              "18    6.1      67\n",
              "19    7.4      69\n",
              "20    2.7      30\n",
              "21    4.8      54\n",
              "22    3.8      35\n",
              "23    6.9      76\n",
              "24    7.8      86"
            ]
          },
          "metadata": {
            "tags": []
          },
          "execution_count": 4
        }
      ]
    },
    {
      "cell_type": "markdown",
      "metadata": {
        "id": "3NqEI313Syih"
      },
      "source": [
        "## 2) checking for outliers"
      ]
    },
    {
      "cell_type": "code",
      "metadata": {
        "colab": {
          "base_uri": "https://localhost:8080/",
          "height": 265
        },
        "id": "fBl3MKXMMyZ5",
        "outputId": "d9069b36-34d2-45d3-f30f-66059ae79e18"
      },
      "source": [
        "figr,axr =  plt.subplots(1,2)\n",
        "axr[0].boxplot(data['Hours'])\n",
        "axr[1].boxplot(data['Scores'])\n",
        "plt.show()"
      ],
      "execution_count": 5,
      "outputs": [
        {
          "output_type": "display_data",
          "data": {
            "image/png": "[encoded data removed]",
            "text/plain": [
              "<Figure size 432x288 with 2 Axes>"
            ]
          },
          "metadata": {
            "tags": [],
            "needs_background": "light"
          }
        }
      ]
    },
    {
      "cell_type": "markdown",
      "metadata": {
        "id": "69Qk0UQGZZt-"
      },
      "source": [
        "### * data does not have any outliers "
      ]
    },
    {
      "cell_type": "markdown",
      "metadata": {
        "id": "6KynSG8FTNJK"
      },
      "source": [
        "## 3) reshaping data because it only contains one dimension"
      ]
    },
    {
      "cell_type": "code",
      "metadata": {
        "id": "DbdXjm4Uuq2X",
        "colab": {
          "base_uri": "https://localhost:8080/"
        },
        "outputId": "8f296e10-5e25-4ad2-d7b9-3968dba9d859"
      },
      "source": [
        "X=data['Hours'].values.reshape(-1,1)\n",
        "X"
      ],
      "execution_count": 6,
      "outputs": [
        {
          "output_type": "execute_result",
          "data": {
            "text/plain": [
              "array([[2.5],\n",
              "       [5.1],\n",
              "       [3.2],\n",
              "       [8.5],\n",
              "       [3.5],\n",
              "       [1.5],\n",
              "       [9.2],\n",
              "       [5.5],\n",
              "       [8.3],\n",
              "       [2.7],\n",
              "       [7.7],\n",
              "       [5.9],\n",
              "       [4.5],\n",
              "       [3.3],\n",
              "       [1.1],\n",
              "       [8.9],\n",
              "       [2.5],\n",
              "       [1.9],\n",
              "       [6.1],\n",
              "       [7.4],\n",
              "       [2.7],\n",
              "       [4.8],\n",
              "       [3.8],\n",
              "       [6.9],\n",
              "       [7.8]])"
            ]
          },
          "metadata": {
            "tags": []
          },
          "execution_count": 6
        }
      ]
    },
    {
      "cell_type": "markdown",
      "metadata": {
        "id": "-TSuAUzQTVvJ"
      },
      "source": [
        "## 4) using different regression models for regression analysis"
      ]
    },
    {
      "cell_type": "code",
      "metadata": {
        "id": "V6JQ3aB9uzHk",
        "colab": {
          "base_uri": "https://localhost:8080/"
        },
        "outputId": "73454fc1-06f7-4867-876c-acfcdb10ca28"
      },
      "source": [
        "regr1=LinearRegression()\n",
        "regr2 = BayesianRidge()\n",
        "regr3 = svm.SVR()\n",
        "regr4 = KNeighborsRegressor()\n",
        "regr5 = tree.DecisionTreeRegressor()\n",
        "regr6= VotingRegressor(estimators=[['LR',regr1],['BR',regr2],['KN',regr4],['DT',regr5]])\n",
        "regr6"
      ],
      "execution_count": 7,
      "outputs": [
        {
          "output_type": "execute_result",
          "data": {
            "text/plain": [
              "VotingRegressor(estimators=[['LR',\n",
              "                             LinearRegression(copy_X=True, fit_intercept=True,\n",
              "                                              n_jobs=None, normalize=False)],\n",
              "                            ['BR',\n",
              "                             BayesianRidge(alpha_1=1e-06, alpha_2=1e-06,\n",
              "                                           alpha_init=None, compute_score=False,\n",
              "                                           copy_X=True, fit_intercept=True,\n",
              "                                           lambda_1=1e-06, lambda_2=1e-06,\n",
              "                                           lambda_init=None, n_iter=300,\n",
              "                                           normalize=False, tol=0.001,\n",
              "                                           verbose=False)],\n",
              "                            ['KN',\n",
              "                             KNeighborsRegress...\n",
              "                                                 n_jobs=None, n_neighbors=5,\n",
              "                                                 p=2, weights='uniform')],\n",
              "                            ['DT',\n",
              "                             DecisionTreeRegressor(ccp_alpha=0.0,\n",
              "                                                   criterion='mse',\n",
              "                                                   max_depth=None,\n",
              "                                                   max_features=None,\n",
              "                                                   max_leaf_nodes=None,\n",
              "                                                   min_impurity_decrease=0.0,\n",
              "                                                   min_impurity_split=None,\n",
              "                                                   min_samples_leaf=1,\n",
              "                                                   min_samples_split=2,\n",
              "                                                   min_weight_fraction_leaf=0.0,\n",
              "                                                   presort='deprecated',\n",
              "                                                   random_state=None,\n",
              "                                                   splitter='best')]],\n",
              "                n_jobs=None, weights=None)"
            ]
          },
          "metadata": {
            "tags": []
          },
          "execution_count": 7
        }
      ]
    },
    {
      "cell_type": "markdown",
      "metadata": {
        "id": "bPvMBk06TjGF"
      },
      "source": [
        "## 5) spliting the data into train and test"
      ]
    },
    {
      "cell_type": "code",
      "metadata": {
        "id": "k3k3S81K8Pqb"
      },
      "source": [
        "X_train,X_test,y_train,y_test=train_test_split(X,data['Scores'],test_size=0.5,random_state=1)"
      ],
      "execution_count": 8,
      "outputs": []
    },
    {
      "cell_type": "markdown",
      "metadata": {
        "id": "A1Rnb2yyTtGX"
      },
      "source": [
        "## 6) training data with each model"
      ]
    },
    {
      "cell_type": "code",
      "metadata": {
        "colab": {
          "base_uri": "https://localhost:8080/"
        },
        "id": "EKWcLDvpxMfx",
        "outputId": "8a310ece-2b82-4da3-8d2b-f491caf4ca80"
      },
      "source": [
        "regr1.fit(X_train,y_train)\n",
        "regr2.fit(X_train,y_train)\n",
        "regr3.fit(X_train,y_train)\n",
        "regr4.fit(X_train,y_train)\n",
        "regr5.fit(X_train,y_train)\n",
        "regr6.fit(X_train,y_train)"
      ],
      "execution_count": 9,
      "outputs": [
        {
          "output_type": "execute_result",
          "data": {
            "text/plain": [
              "VotingRegressor(estimators=[['LR',\n",
              "                             LinearRegression(copy_X=True, fit_intercept=True,\n",
              "                                              n_jobs=None, normalize=False)],\n",
              "                            ['BR',\n",
              "                             BayesianRidge(alpha_1=1e-06, alpha_2=1e-06,\n",
              "                                           alpha_init=None, compute_score=False,\n",
              "                                           copy_X=True, fit_intercept=True,\n",
              "                                           lambda_1=1e-06, lambda_2=1e-06,\n",
              "                                           lambda_init=None, n_iter=300,\n",
              "                                           normalize=False, tol=0.001,\n",
              "                                           verbose=False)],\n",
              "                            ['KN',\n",
              "                             KNeighborsRegress...\n",
              "                                                 n_jobs=None, n_neighbors=5,\n",
              "                                                 p=2, weights='uniform')],\n",
              "                            ['DT',\n",
              "                             DecisionTreeRegressor(ccp_alpha=0.0,\n",
              "                                                   criterion='mse',\n",
              "                                                   max_depth=None,\n",
              "                                                   max_features=None,\n",
              "                                                   max_leaf_nodes=None,\n",
              "                                                   min_impurity_decrease=0.0,\n",
              "                                                   min_impurity_split=None,\n",
              "                                                   min_samples_leaf=1,\n",
              "                                                   min_samples_split=2,\n",
              "                                                   min_weight_fraction_leaf=0.0,\n",
              "                                                   presort='deprecated',\n",
              "                                                   random_state=None,\n",
              "                                                   splitter='best')]],\n",
              "                n_jobs=None, weights=None)"
            ]
          },
          "metadata": {
            "tags": []
          },
          "execution_count": 9
        }
      ]
    },
    {
      "cell_type": "markdown",
      "metadata": {
        "id": "aJH-ecHGT3Kk"
      },
      "source": [
        "## 7) ploting prediction and actual data"
      ]
    },
    {
      "cell_type": "code",
      "metadata": {
        "id": "IersOKumyF8V"
      },
      "source": [
        "Y_pred1 = regr1.predict(X)\n",
        "Y_pred2 = regr2.predict(X)\n",
        "Y_pred3 = regr3.predict(X)\n",
        "Y_pred4 = regr4.predict(X)\n",
        "Y_pred5 = regr5.predict(X)\n",
        "Y_pred6 = regr6.predict(X)"
      ],
      "execution_count": 10,
      "outputs": []
    },
    {
      "cell_type": "code",
      "metadata": {
        "id": "csSexRWrxSHD",
        "colab": {
          "base_uri": "https://localhost:8080/",
          "height": 281
        },
        "outputId": "d76c0ffe-c19b-4142-d350-ba55dad3b051"
      },
      "source": [
        "figure, axis = plt.subplots(1,2)\n",
        "\n",
        "axis[0].plot(data['Hours'],data['Scores'],'o')\n",
        "axis[0].plot(X,Y_pred1)\n",
        "axis[0].set_title('linear regression')\n",
        "\n",
        "axis[1].plot(data['Hours'],data['Scores'],'o')\n",
        "axis[1].plot(X,Y_pred2)\n",
        "axis[1].set_title('BayesianRidge')\n",
        "plt.show()"
      ],
      "execution_count": 11,
      "outputs": [
        {
          "output_type": "display_data",
          "data": {
            "image/png": "[encoded data removed]",
            "text/plain": [
              "<Figure size 432x288 with 2 Axes>"
            ]
          },
          "metadata": {
            "tags": [],
            "needs_background": "light"
          }
        }
      ]
    },
    {
      "cell_type": "markdown",
      "metadata": {
        "id": "8_B_KH6WUUiw"
      },
      "source": [
        "## 8) evaluation of the test"
      ]
    },
    {
      "cell_type": "code",
      "metadata": {
        "id": "l4T3tzYvxT0O"
      },
      "source": [
        "y_pred_test1=regr1.predict(X_test)\n",
        "y_pred_test2=regr2.predict(X_test)\n",
        "y_pred_test3=regr3.predict(X_test)\n",
        "y_pred_test4=regr4.predict(X_test)\n",
        "y_pred_test5=regr5.predict(X_test)\n",
        "y_pred_test6=regr6.predict(X_test)"
      ],
      "execution_count": 12,
      "outputs": []
    },
    {
      "cell_type": "code",
      "metadata": {
        "id": "craxaO80E9Oi"
      },
      "source": [
        ""
      ],
      "execution_count": 12,
      "outputs": []
    },
    {
      "cell_type": "code",
      "metadata": {
        "id": "vrQTdfrb2fKI"
      },
      "source": [
        "scoretest = pd.DataFrame({'hours':X_test.reshape(13) ,'Actual Scores': y_test, 'Predicted linearregression': y_pred_test1, 'Predicted BayesianRidge': y_pred_test2, 'Predicted SVM': y_pred_test3,\n",
        "                           'Predicted KNN': y_pred_test4,'Predicted Decisiontree regression': y_pred_test5,'Predicted ensemblemethod': y_pred_test6})\n"
      ],
      "execution_count": 13,
      "outputs": []
    },
    {
      "cell_type": "code",
      "metadata": {
        "id": "AyS_rCfUGIna",
        "colab": {
          "base_uri": "https://localhost:8080/",
          "height": 466
        },
        "outputId": "dda22536-5597-4b2c-f2d5-f4e34765c7e3"
      },
      "source": [
        "scoretest"
      ],
      "execution_count": 14,
      "outputs": [
        {
          "output_type": "execute_result",
          "data": {
            "text/html": [
              "<div>\n",
              "<style scoped>\n",
              "    .dataframe tbody tr th:only-of-type {\n",
              "        vertical-align: middle;\n",
              "    }\n",
              "\n",
              "    .dataframe tbody tr th {\n",
              "        vertical-align: top;\n",
              "    }\n",
              "\n",
              "    .dataframe thead th {\n",
              "        text-align: right;\n",
              "    }\n",
              "</style>\n",
              "<table border=\"1\" class=\"dataframe\">\n",
              "  <thead>\n",
              "    <tr style=\"text-align: right;\">\n",
              "      <th></th>\n",
              "      <th>hours</th>\n",
              "      <th>Actual Scores</th>\n",
              "      <th>Predicted linearregression</th>\n",
              "      <th>Predicted BayesianRidge</th>\n",
              "      <th>Predicted SVM</th>\n",
              "      <th>Predicted KNN</th>\n",
              "      <th>Predicted Decisiontree regression</th>\n",
              "      <th>Predicted ensemblemethod</th>\n",
              "    </tr>\n",
              "  </thead>\n",
              "  <tbody>\n",
              "    <tr>\n",
              "      <th>14</th>\n",
              "      <td>1.1</td>\n",
              "      <td>17</td>\n",
              "      <td>9.752616</td>\n",
              "      <td>9.861033</td>\n",
              "      <td>41.212913</td>\n",
              "      <td>26.2</td>\n",
              "      <td>20.0</td>\n",
              "      <td>16.453412</td>\n",
              "    </tr>\n",
              "    <tr>\n",
              "      <th>13</th>\n",
              "      <td>3.3</td>\n",
              "      <td>42</td>\n",
              "      <td>33.149458</td>\n",
              "      <td>33.197235</td>\n",
              "      <td>40.598793</td>\n",
              "      <td>30.4</td>\n",
              "      <td>35.0</td>\n",
              "      <td>32.936673</td>\n",
              "    </tr>\n",
              "    <tr>\n",
              "      <th>17</th>\n",
              "      <td>1.9</td>\n",
              "      <td>24</td>\n",
              "      <td>18.260558</td>\n",
              "      <td>18.346925</td>\n",
              "      <td>40.250769</td>\n",
              "      <td>26.2</td>\n",
              "      <td>20.0</td>\n",
              "      <td>20.701871</td>\n",
              "    </tr>\n",
              "    <tr>\n",
              "      <th>3</th>\n",
              "      <td>8.5</td>\n",
              "      <td>75</td>\n",
              "      <td>88.451084</td>\n",
              "      <td>88.355530</td>\n",
              "      <td>48.486615</td>\n",
              "      <td>80.0</td>\n",
              "      <td>81.0</td>\n",
              "      <td>84.451654</td>\n",
              "    </tr>\n",
              "    <tr>\n",
              "      <th>21</th>\n",
              "      <td>4.8</td>\n",
              "      <td>54</td>\n",
              "      <td>49.101850</td>\n",
              "      <td>49.108282</td>\n",
              "      <td>43.998290</td>\n",
              "      <td>42.0</td>\n",
              "      <td>47.0</td>\n",
              "      <td>46.802533</td>\n",
              "    </tr>\n",
              "    <tr>\n",
              "      <th>10</th>\n",
              "      <td>7.7</td>\n",
              "      <td>85</td>\n",
              "      <td>79.943142</td>\n",
              "      <td>79.869638</td>\n",
              "      <td>48.821135</td>\n",
              "      <td>80.0</td>\n",
              "      <td>86.0</td>\n",
              "      <td>81.453195</td>\n",
              "    </tr>\n",
              "    <tr>\n",
              "      <th>18</th>\n",
              "      <td>6.1</td>\n",
              "      <td>67</td>\n",
              "      <td>62.927257</td>\n",
              "      <td>62.897855</td>\n",
              "      <td>47.206193</td>\n",
              "      <td>62.4</td>\n",
              "      <td>62.0</td>\n",
              "      <td>62.556278</td>\n",
              "    </tr>\n",
              "    <tr>\n",
              "      <th>19</th>\n",
              "      <td>7.4</td>\n",
              "      <td>69</td>\n",
              "      <td>76.752663</td>\n",
              "      <td>76.687429</td>\n",
              "      <td>48.760910</td>\n",
              "      <td>80.0</td>\n",
              "      <td>86.0</td>\n",
              "      <td>79.860023</td>\n",
              "    </tr>\n",
              "    <tr>\n",
              "      <th>4</th>\n",
              "      <td>3.5</td>\n",
              "      <td>30</td>\n",
              "      <td>35.276443</td>\n",
              "      <td>35.318708</td>\n",
              "      <td>40.909923</td>\n",
              "      <td>30.4</td>\n",
              "      <td>35.0</td>\n",
              "      <td>33.998788</td>\n",
              "    </tr>\n",
              "    <tr>\n",
              "      <th>2</th>\n",
              "      <td>3.2</td>\n",
              "      <td>27</td>\n",
              "      <td>32.085965</td>\n",
              "      <td>32.136499</td>\n",
              "      <td>40.466640</td>\n",
              "      <td>30.4</td>\n",
              "      <td>25.0</td>\n",
              "      <td>29.905616</td>\n",
              "    </tr>\n",
              "    <tr>\n",
              "      <th>20</th>\n",
              "      <td>2.7</td>\n",
              "      <td>30</td>\n",
              "      <td>26.768501</td>\n",
              "      <td>26.832816</td>\n",
              "      <td>40.056041</td>\n",
              "      <td>26.2</td>\n",
              "      <td>25.0</td>\n",
              "      <td>26.200329</td>\n",
              "    </tr>\n",
              "    <tr>\n",
              "      <th>6</th>\n",
              "      <td>9.2</td>\n",
              "      <td>88</td>\n",
              "      <td>95.895534</td>\n",
              "      <td>95.780685</td>\n",
              "      <td>47.752653</td>\n",
              "      <td>80.0</td>\n",
              "      <td>95.0</td>\n",
              "      <td>91.669055</td>\n",
              "    </tr>\n",
              "    <tr>\n",
              "      <th>7</th>\n",
              "      <td>5.5</td>\n",
              "      <td>60</td>\n",
              "      <td>56.546300</td>\n",
              "      <td>56.533437</td>\n",
              "      <td>45.856321</td>\n",
              "      <td>52.2</td>\n",
              "      <td>47.0</td>\n",
              "      <td>53.069934</td>\n",
              "    </tr>\n",
              "  </tbody>\n",
              "</table>\n",
              "</div>"
            ],
            "text/plain": [
              "    hours  ...  Predicted ensemblemethod\n",
              "14    1.1  ...                 16.453412\n",
              "13    3.3  ...                 32.936673\n",
              "17    1.9  ...                 20.701871\n",
              "3     8.5  ...                 84.451654\n",
              "21    4.8  ...                 46.802533\n",
              "10    7.7  ...                 81.453195\n",
              "18    6.1  ...                 62.556278\n",
              "19    7.4  ...                 79.860023\n",
              "4     3.5  ...                 33.998788\n",
              "2     3.2  ...                 29.905616\n",
              "20    2.7  ...                 26.200329\n",
              "6     9.2  ...                 91.669055\n",
              "7     5.5  ...                 53.069934\n",
              "\n",
              "[13 rows x 8 columns]"
            ]
          },
          "metadata": {
            "tags": []
          },
          "execution_count": 14
        }
      ]
    },
    {
      "cell_type": "markdown",
      "metadata": {
        "id": "IQb63stuWJjE"
      },
      "source": [
        "### *  metrics test with MAPE(mean absolute percentage error)"
      ]
    },
    {
      "cell_type": "code",
      "metadata": {
        "id": "NZwcwJaM55tX"
      },
      "source": [
        "def MAPE(Y_actual,Y_Predicted):\n",
        "    mape = np.mean(np.abs((Y_actual - Y_Predicted)/Y_actual))*100\n",
        "    return mape"
      ],
      "execution_count": 15,
      "outputs": []
    },
    {
      "cell_type": "code",
      "metadata": {
        "id": "yLmnAuHc28i_",
        "colab": {
          "base_uri": "https://localhost:8080/"
        },
        "outputId": "989cd662-b203-41e1-acb1-644d64289005"
      },
      "source": [
        "from sklearn import metrics\n",
        "print('{:<25} : {}{}'.format('MAPE for linear',round(MAPE(y_test, y_pred_test1),2),'%'))  \n",
        "print('{:<25} : {}{}'.format('MAPE for BayesianRidge',round(MAPE(y_test, y_pred_test2),2),'%'))  \n",
        "print('{:<25} : {}{}'.format('MAPE for SVM',round(MAPE(y_test, y_pred_test3),2),'%'))  \n",
        "print('{:<25} : {}{}'.format('MAPE for KNeign',round(MAPE(y_test, y_pred_test4),2),'%'))  \n",
        "print('{:<25} : {}{}'.format('MAPE for Decisiontree',round(MAPE(y_test, y_pred_test5),2),'%'))  \n",
        "print('{:<25} : {}{}'.format('MAPE for Votingensemble',round(MAPE(y_test, y_pred_test6),2),'%'))  "
      ],
      "execution_count": 16,
      "outputs": [
        {
          "output_type": "stream",
          "text": [
            "MAPE for linear           : 15.37%\n",
            "MAPE for BayesianRidge    : 15.28%\n",
            "MAPE for SVM              : 42.91%\n",
            "MAPE for KNeign           : 15.17%\n",
            "MAPE for Decisiontree     : 13.51%\n",
            "MAPE for Votingensemble   : 11.04%\n"
          ],
          "name": "stdout"
        }
      ]
    },
    {
      "cell_type": "code",
      "metadata": {
        "id": "aErz2JsB7b24",
        "colab": {
          "base_uri": "https://localhost:8080/"
        },
        "outputId": "0c80ccec-3ec4-45dd-952b-904e8f8d2adb"
      },
      "source": [
        "print('{:<45} : {}'.format('prediction for 9.25hours by linear',regr1.predict([[9.25]])[0]))\n",
        "print('{:<45} : {}'.format('prediction for 9.25hours by BayesianRidge',regr2.predict([[9.25]])[0]))\n",
        "print('{:<45} : {}'.format('prediction for 9.25hours by SVM',regr3.predict([[9.25]])[0]))\n",
        "print('{:<45} : {}'.format('prediction for 9.25hours by KNeign',regr4.predict([[9.25]])[0]))\n",
        "print('{:<45} : {}'.format('prediction for 9.25hours by Decisiontree',regr5.predict([[9.25]])[0]))\n",
        "print('{:<45} : {}'.format('prediction for 9.25hours by Votingensemble',regr6.predict([[9.25]])[0]))\n"
      ],
      "execution_count": 17,
      "outputs": [
        {
          "output_type": "stream",
          "text": [
            "prediction for 9.25hours by linear            : 96.42728050984495\n",
            "prediction for 9.25hours by BayesianRidge     : 96.31105336336296\n",
            "prediction for 9.25hours by SVM               : 47.69064538415985\n",
            "prediction for 9.25hours by KNeign            : 80.0\n",
            "prediction for 9.25hours by Decisiontree      : 95.0\n",
            "prediction for 9.25hours by Votingensemble    : 91.93458346830198\n"
          ],
          "name": "stdout"
        }
      ]
    },
    {
      "cell_type": "markdown",
      "metadata": {
        "id": "lGXwxi5XXpEF"
      },
      "source": [
        "## 9) final result"
      ]
    },
    {
      "cell_type": "markdown",
      "metadata": {
        "id": "vfDTT_0xX19q"
      },
      "source": [
        "### with 11%  error which is less camparing with other model, Voting emsemble model's prediction is :-\n",
        "\n",
        "###***for 9.25 hours you can score 91.9 marks***"
      ]
    },
    {
      "cell_type": "markdown",
      "metadata": {
        "id": "mhH8vUgaoVsA"
      },
      "source": [
        "# space"
      ]
    },
    {
      "cell_type": "code",
      "metadata": {
        "id": "iPpbS0Y3oOI9",
        "colab": {
          "base_uri": "https://localhost:8080/",
          "height": 35
        },
        "outputId": "dc967360-ef12-4570-87eb-2b1370d74c8f"
      },
      "source": [
        "'''\n",
        ".\n",
        ".\n",
        ".\n",
        ".\n",
        ".\n",
        ".\n",
        ".\n",
        ".\n",
        ".\n",
        ".\n",
        ".\n",
        ".\n",
        ".\n",
        ".\n",
        ".\n",
        ".\n",
        ".\n",
        ".\n",
        ".\n",
        ".\n",
        ".\n",
        ".\n",
        ".\n",
        ".\n",
        ".\n",
        ".\n",
        "'''"
      ],
      "execution_count": 18,
      "outputs": [
        {
          "output_type": "execute_result",
          "data": {
            "application/vnd.google.colaboratory.intrinsic+json": {
              "type": "string"
            },
            "text/plain": [
              "'\\n.\\n.\\n.\\n.\\n.\\n.\\n.\\n.\\n.\\n.\\n.\\n.\\n.\\n.\\n.\\n.\\n.\\n.\\n.\\n.\\n.\\n.\\n.\\n.\\n.\\n.\\n'"
            ]
          },
          "metadata": {
            "tags": []
          },
          "execution_count": 18
        }
      ]
    },
    {
      "cell_type": "markdown",
      "metadata": {
        "id": "4Bs5OkbuIzCj"
      },
      "source": [
        "#task 2 Prediction using Unsupervised ML"
      ]
    },
    {
      "cell_type": "markdown",
      "metadata": {
        "id": "KsVn7kgJoB-x"
      },
      "source": [
        "## **for this task there are 6 sections as follows :\n",
        "## 1)data importing with pandas\n",
        "## 2) checking for outliers\n",
        "## 3) making dependent and independent values\n",
        "## 4) creating and fitting KMEANS clusters model\n",
        "## 5) coloring the predicted clusters\n",
        "## 6) 3d graphical represtation of the clusters\n",
        "\n",
        "### **the following are the neccessary packages for the task"
      ]
    },
    {
      "cell_type": "code",
      "metadata": {
        "id": "KNzWcnipIvgZ"
      },
      "source": [
        "import pandas as pd\n",
        "from sklearn.model_selection import train_test_split \n",
        "from sklearn.cluster import KMeans,Birch,DBSCAN,AffinityPropagation,OPTICS\n",
        "import matplotlib.pyplot as plt\n",
        "import numpy as np"
      ],
      "execution_count": 19,
      "outputs": []
    },
    {
      "cell_type": "markdown",
      "metadata": {
        "id": "KPTVGv9FpJtr"
      },
      "source": [
        "## 1)data importing with pandas"
      ]
    },
    {
      "cell_type": "code",
      "metadata": {
        "id": "cRIuUrPFIv66",
        "colab": {
          "base_uri": "https://localhost:8080/",
          "height": 387
        },
        "outputId": "def31c00-9cc2-41e3-e20d-1ecb0235a889"
      },
      "source": [
        "data2=pd.read_csv('Iris.csv')\n",
        "data2"
      ],
      "execution_count": 20,
      "outputs": [
        {
          "output_type": "error",
          "ename": "FileNotFoundError",
          "evalue": "ignored",
          "traceback": [
            "\u001b[0;31m---------------------------------------------------------------------------\u001b[0m",
            "\u001b[0;31mFileNotFoundError\u001b[0m                         Traceback (most recent call last)",
            "\u001b[0;32m<ipython-input-20-20ac30a76191>\u001b[0m in \u001b[0;36m<module>\u001b[0;34m()\u001b[0m\n\u001b[0;32m----> 1\u001b[0;31m \u001b[0mdata2\u001b[0m\u001b[0;34m=\u001b[0m\u001b[0mpd\u001b[0m\u001b[0;34m.\u001b[0m\u001b[0mread_csv\u001b[0m\u001b[0;34m(\u001b[0m\u001b[0;34m'Iris.csv'\u001b[0m\u001b[0;34m)\u001b[0m\u001b[0;34m\u001b[0m\u001b[0;34m\u001b[0m\u001b[0m\n\u001b[0m\u001b[1;32m      2\u001b[0m \u001b[0mdata2\u001b[0m\u001b[0;34m\u001b[0m\u001b[0;34m\u001b[0m\u001b[0m\n",
            "\u001b[0;32m/usr/local/lib/python3.7/dist-packages/pandas/io/parsers.py\u001b[0m in \u001b[0;36mread_csv\u001b[0;34m(filepath_or_buffer, sep, delimiter, header, names, index_col, usecols, squeeze, prefix, mangle_dupe_cols, dtype, engine, converters, true_values, false_values, skipinitialspace, skiprows, skipfooter, nrows, na_values, keep_default_na, na_filter, verbose, skip_blank_lines, parse_dates, infer_datetime_format, keep_date_col, date_parser, dayfirst, cache_dates, iterator, chunksize, compression, thousands, decimal, lineterminator, quotechar, quoting, doublequote, escapechar, comment, encoding, dialect, error_bad_lines, warn_bad_lines, delim_whitespace, low_memory, memory_map, float_precision)\u001b[0m\n\u001b[1;32m    686\u001b[0m     )\n\u001b[1;32m    687\u001b[0m \u001b[0;34m\u001b[0m\u001b[0m\n\u001b[0;32m--> 688\u001b[0;31m     \u001b[0;32mreturn\u001b[0m \u001b[0m_read\u001b[0m\u001b[0;34m(\u001b[0m\u001b[0mfilepath_or_buffer\u001b[0m\u001b[0;34m,\u001b[0m \u001b[0mkwds\u001b[0m\u001b[0;34m)\u001b[0m\u001b[0;34m\u001b[0m\u001b[0;34m\u001b[0m\u001b[0m\n\u001b[0m\u001b[1;32m    689\u001b[0m \u001b[0;34m\u001b[0m\u001b[0m\n\u001b[1;32m    690\u001b[0m \u001b[0;34m\u001b[0m\u001b[0m\n",
            "\u001b[0;32m/usr/local/lib/python3.7/dist-packages/pandas/io/parsers.py\u001b[0m in \u001b[0;36m_read\u001b[0;34m(filepath_or_buffer, kwds)\u001b[0m\n\u001b[1;32m    452\u001b[0m \u001b[0;34m\u001b[0m\u001b[0m\n\u001b[1;32m    453\u001b[0m     \u001b[0;31m# Create the parser.\u001b[0m\u001b[0;34m\u001b[0m\u001b[0;34m\u001b[0m\u001b[0;34m\u001b[0m\u001b[0m\n\u001b[0;32m--> 454\u001b[0;31m     \u001b[0mparser\u001b[0m \u001b[0;34m=\u001b[0m \u001b[0mTextFileReader\u001b[0m\u001b[0;34m(\u001b[0m\u001b[0mfp_or_buf\u001b[0m\u001b[0;34m,\u001b[0m \u001b[0;34m**\u001b[0m\u001b[0mkwds\u001b[0m\u001b[0;34m)\u001b[0m\u001b[0;34m\u001b[0m\u001b[0;34m\u001b[0m\u001b[0m\n\u001b[0m\u001b[1;32m    455\u001b[0m \u001b[0;34m\u001b[0m\u001b[0m\n\u001b[1;32m    456\u001b[0m     \u001b[0;32mif\u001b[0m \u001b[0mchunksize\u001b[0m \u001b[0;32mor\u001b[0m \u001b[0miterator\u001b[0m\u001b[0;34m:\u001b[0m\u001b[0;34m\u001b[0m\u001b[0;34m\u001b[0m\u001b[0m\n",
            "\u001b[0;32m/usr/local/lib/python3.7/dist-packages/pandas/io/parsers.py\u001b[0m in \u001b[0;36m__init__\u001b[0;34m(self, f, engine, **kwds)\u001b[0m\n\u001b[1;32m    946\u001b[0m             \u001b[0mself\u001b[0m\u001b[0;34m.\u001b[0m\u001b[0moptions\u001b[0m\u001b[0;34m[\u001b[0m\u001b[0;34m\"has_index_names\"\u001b[0m\u001b[0;34m]\u001b[0m \u001b[0;34m=\u001b[0m \u001b[0mkwds\u001b[0m\u001b[0;34m[\u001b[0m\u001b[0;34m\"has_index_names\"\u001b[0m\u001b[0;34m]\u001b[0m\u001b[0;34m\u001b[0m\u001b[0;34m\u001b[0m\u001b[0m\n\u001b[1;32m    947\u001b[0m \u001b[0;34m\u001b[0m\u001b[0m\n\u001b[0;32m--> 948\u001b[0;31m         \u001b[0mself\u001b[0m\u001b[0;34m.\u001b[0m\u001b[0m_make_engine\u001b[0m\u001b[0;34m(\u001b[0m\u001b[0mself\u001b[0m\u001b[0;34m.\u001b[0m\u001b[0mengine\u001b[0m\u001b[0;34m)\u001b[0m\u001b[0;34m\u001b[0m\u001b[0;34m\u001b[0m\u001b[0m\n\u001b[0m\u001b[1;32m    949\u001b[0m \u001b[0;34m\u001b[0m\u001b[0m\n\u001b[1;32m    950\u001b[0m     \u001b[0;32mdef\u001b[0m \u001b[0mclose\u001b[0m\u001b[0;34m(\u001b[0m\u001b[0mself\u001b[0m\u001b[0;34m)\u001b[0m\u001b[0;34m:\u001b[0m\u001b[0;34m\u001b[0m\u001b[0;34m\u001b[0m\u001b[0m\n",
            "\u001b[0;32m/usr/local/lib/python3.7/dist-packages/pandas/io/parsers.py\u001b[0m in \u001b[0;36m_make_engine\u001b[0;34m(self, engine)\u001b[0m\n\u001b[1;32m   1178\u001b[0m     \u001b[0;32mdef\u001b[0m \u001b[0m_make_engine\u001b[0m\u001b[0;34m(\u001b[0m\u001b[0mself\u001b[0m\u001b[0;34m,\u001b[0m \u001b[0mengine\u001b[0m\u001b[0;34m=\u001b[0m\u001b[0;34m\"c\"\u001b[0m\u001b[0;34m)\u001b[0m\u001b[0;34m:\u001b[0m\u001b[0;34m\u001b[0m\u001b[0;34m\u001b[0m\u001b[0m\n\u001b[1;32m   1179\u001b[0m         \u001b[0;32mif\u001b[0m \u001b[0mengine\u001b[0m \u001b[0;34m==\u001b[0m \u001b[0;34m\"c\"\u001b[0m\u001b[0;34m:\u001b[0m\u001b[0;34m\u001b[0m\u001b[0;34m\u001b[0m\u001b[0m\n\u001b[0;32m-> 1180\u001b[0;31m             \u001b[0mself\u001b[0m\u001b[0;34m.\u001b[0m\u001b[0m_engine\u001b[0m \u001b[0;34m=\u001b[0m \u001b[0mCParserWrapper\u001b[0m\u001b[0;34m(\u001b[0m\u001b[0mself\u001b[0m\u001b[0;34m.\u001b[0m\u001b[0mf\u001b[0m\u001b[0;34m,\u001b[0m \u001b[0;34m**\u001b[0m\u001b[0mself\u001b[0m\u001b[0;34m.\u001b[0m\u001b[0moptions\u001b[0m\u001b[0;34m)\u001b[0m\u001b[0;34m\u001b[0m\u001b[0;34m\u001b[0m\u001b[0m\n\u001b[0m\u001b[1;32m   1181\u001b[0m         \u001b[0;32melse\u001b[0m\u001b[0;34m:\u001b[0m\u001b[0;34m\u001b[0m\u001b[0;34m\u001b[0m\u001b[0m\n\u001b[1;32m   1182\u001b[0m             \u001b[0;32mif\u001b[0m \u001b[0mengine\u001b[0m \u001b[0;34m==\u001b[0m \u001b[0;34m\"python\"\u001b[0m\u001b[0;34m:\u001b[0m\u001b[0;34m\u001b[0m\u001b[0;34m\u001b[0m\u001b[0m\n",
            "\u001b[0;32m/usr/local/lib/python3.7/dist-packages/pandas/io/parsers.py\u001b[0m in \u001b[0;36m__init__\u001b[0;34m(self, src, **kwds)\u001b[0m\n\u001b[1;32m   2008\u001b[0m         \u001b[0mkwds\u001b[0m\u001b[0;34m[\u001b[0m\u001b[0;34m\"usecols\"\u001b[0m\u001b[0;34m]\u001b[0m \u001b[0;34m=\u001b[0m \u001b[0mself\u001b[0m\u001b[0;34m.\u001b[0m\u001b[0musecols\u001b[0m\u001b[0;34m\u001b[0m\u001b[0;34m\u001b[0m\u001b[0m\n\u001b[1;32m   2009\u001b[0m \u001b[0;34m\u001b[0m\u001b[0m\n\u001b[0;32m-> 2010\u001b[0;31m         \u001b[0mself\u001b[0m\u001b[0;34m.\u001b[0m\u001b[0m_reader\u001b[0m \u001b[0;34m=\u001b[0m \u001b[0mparsers\u001b[0m\u001b[0;34m.\u001b[0m\u001b[0mTextReader\u001b[0m\u001b[0;34m(\u001b[0m\u001b[0msrc\u001b[0m\u001b[0;34m,\u001b[0m \u001b[0;34m**\u001b[0m\u001b[0mkwds\u001b[0m\u001b[0;34m)\u001b[0m\u001b[0;34m\u001b[0m\u001b[0;34m\u001b[0m\u001b[0m\n\u001b[0m\u001b[1;32m   2011\u001b[0m         \u001b[0mself\u001b[0m\u001b[0;34m.\u001b[0m\u001b[0munnamed_cols\u001b[0m \u001b[0;34m=\u001b[0m \u001b[0mself\u001b[0m\u001b[0;34m.\u001b[0m\u001b[0m_reader\u001b[0m\u001b[0;34m.\u001b[0m\u001b[0munnamed_cols\u001b[0m\u001b[0;34m\u001b[0m\u001b[0;34m\u001b[0m\u001b[0m\n\u001b[1;32m   2012\u001b[0m \u001b[0;34m\u001b[0m\u001b[0m\n",
            "\u001b[0;32mpandas/_libs/parsers.pyx\u001b[0m in \u001b[0;36mpandas._libs.parsers.TextReader.__cinit__\u001b[0;34m()\u001b[0m\n",
            "\u001b[0;32mpandas/_libs/parsers.pyx\u001b[0m in \u001b[0;36mpandas._libs.parsers.TextReader._setup_parser_source\u001b[0;34m()\u001b[0m\n",
            "\u001b[0;31mFileNotFoundError\u001b[0m: [Errno 2] No such file or directory: 'Iris.csv'"
          ]
        }
      ]
    },
    {
      "cell_type": "markdown",
      "metadata": {
        "id": "ZvFENAqppO5e"
      },
      "source": [
        "## 2) checking for outliers\n"
      ]
    },
    {
      "cell_type": "code",
      "metadata": {
        "id": "PO2htE6BR_Bu"
      },
      "source": [
        "figr,axr =  plt.subplots(1,2)\n",
        "axr[0].boxplot(data2['SepalLengthCm'])\n",
        "axr[1].boxplot(data2['SepalWidthCm'])\n",
        "axr[0].set_title('SepalLengthCm')\n",
        "axr[1].set_title('SepalWidthCm')\n",
        "plt.show()"
      ],
      "execution_count": null,
      "outputs": []
    },
    {
      "cell_type": "markdown",
      "metadata": {
        "id": "rvhTCt50pQP_"
      },
      "source": [
        "***outliers exists in SepalWidthCm***"
      ]
    },
    {
      "cell_type": "code",
      "metadata": {
        "id": "cWurAJJZSbQL"
      },
      "source": [
        "figr,axr =  plt.subplots(1,2)\n",
        "axr[0].boxplot(data2['PetalLengthCm'])\n",
        "axr[1].boxplot(data2['PetalWidthCm'])\n",
        "axr[0].set_title('PetalLengthCm')\n",
        "axr[1].set_title('PetalWidthCm')\n",
        "plt.show()"
      ],
      "execution_count": null,
      "outputs": []
    },
    {
      "cell_type": "markdown",
      "metadata": {
        "id": "qchcYDtmplDW"
      },
      "source": [
        "***removing outliers***"
      ]
    },
    {
      "cell_type": "code",
      "metadata": {
        "id": "f3uP86g0l_VB"
      },
      "source": [
        "q1cl=data2['SepalWidthCm'].quantile(0.25)\n",
        "q3cl=data2['SepalWidthCm'].quantile(0.75)\n",
        "iqrcl=q3cl-q1cl\n",
        "mincl=q1cl-(1*iqrcl)\n",
        "maxcl=q3cl+(1*iqrcl)\n",
        "print(mincl,maxcl)"
      ],
      "execution_count": null,
      "outputs": []
    },
    {
      "cell_type": "code",
      "metadata": {
        "id": "iHxE06dQmyWG"
      },
      "source": [
        "data2=data2[data2['SepalWidthCm']>=mincl]\n",
        "data2=data2[data2['SepalWidthCm']<=maxcl]\n",
        "data2"
      ],
      "execution_count": null,
      "outputs": []
    },
    {
      "cell_type": "markdown",
      "metadata": {
        "id": "DlCDMMjxpqr7"
      },
      "source": [
        "***after removing outliers***"
      ]
    },
    {
      "cell_type": "code",
      "metadata": {
        "id": "1z6IkGIoRWDp"
      },
      "source": [
        "figr,axr =  plt.subplots(1,2)\n",
        "axr[0].boxplot(data2['SepalLengthCm'])\n",
        "axr[1].boxplot(data2['SepalWidthCm'])\n",
        "axr[0].set_title('SepalLengthCm')\n",
        "axr[1].set_title('SepalWidthCm')\n",
        "plt.show()"
      ],
      "execution_count": null,
      "outputs": []
    },
    {
      "cell_type": "code",
      "metadata": {
        "id": "ySPrLS3yRV3A"
      },
      "source": [
        "figr,axr =  plt.subplots(1,2)\n",
        "axr[0].boxplot(data2['PetalLengthCm'])\n",
        "axr[1].boxplot(data2['PetalWidthCm'])\n",
        "axr[0].set_title('PetalLengthCm')\n",
        "axr[1].set_title('PetalWidthCm')\n",
        "plt.show()"
      ],
      "execution_count": null,
      "outputs": []
    },
    {
      "cell_type": "code",
      "metadata": {
        "id": "BQ1pDM0NehXV"
      },
      "source": [
        "data2['Species'].unique() #all unique cluster names"
      ],
      "execution_count": null,
      "outputs": []
    },
    {
      "cell_type": "markdown",
      "metadata": {
        "id": "ZlVcI4qfqF8g"
      },
      "source": [
        "## 3) making dependent and independent values\n"
      ]
    },
    {
      "cell_type": "code",
      "metadata": {
        "id": "qqe8AbJNLfdv"
      },
      "source": [
        "xcl=data2.iloc[:,1:-1].values\n",
        "ycl=data2.iloc[:,-1:].values\n",
        "xcl"
      ],
      "execution_count": null,
      "outputs": []
    },
    {
      "cell_type": "markdown",
      "metadata": {
        "id": "eGn_iFtGqHcF"
      },
      "source": [
        "## 4) creating and fitting KMEANS clusters model"
      ]
    },
    {
      "cell_type": "code",
      "metadata": {
        "id": "6b4_8vWzLgW4"
      },
      "source": [
        "clus1=KMeans(n_clusters=3,random_state=1).fit(xcl)\n",
        "clus1\n"
      ],
      "execution_count": null,
      "outputs": []
    },
    {
      "cell_type": "markdown",
      "metadata": {
        "id": "sE4nKrYE9nZI"
      },
      "source": [
        "***the optimal number of clusters are 3***"
      ]
    },
    {
      "cell_type": "markdown",
      "metadata": {
        "id": "pDu6QTPaqe8E"
      },
      "source": [
        "## 5) coloring the predicted clusters"
      ]
    },
    {
      "cell_type": "code",
      "metadata": {
        "id": "23RIIdy3VQou"
      },
      "source": [
        "data2['clus']=clus1.predict(xcl)\n",
        "data2['color']=data2.clus.map({0:'red',1:'yellow',2:'blue'})\n",
        "data2"
      ],
      "execution_count": null,
      "outputs": []
    },
    {
      "cell_type": "markdown",
      "metadata": {
        "id": "ZS04JVxVqstd"
      },
      "source": [
        "## 6) 3d graphical represtation of the clusters"
      ]
    },
    {
      "cell_type": "markdown",
      "metadata": {
        "id": "VbQRDQkbq4ws"
      },
      "source": [
        "### graph for SepalLengthCm SepalWidthCm PetalLengthCm"
      ]
    },
    {
      "cell_type": "code",
      "metadata": {
        "id": "CJxy50oMiqoa"
      },
      "source": [
        "figcl=plt.figure(figsize=(21,15))\n",
        "axcl=plt.axes(projection='3d')\n",
        "axcl.scatter(data2['SepalLengthCm'],data2['SepalWidthCm'],data2['PetalLengthCm'],c=data2.color)\n",
        "axcl.set_xlabel('SepalLengthCm')\n",
        "axcl.set_ylabel('SepalWidthCm')\n",
        "axcl.set_zlabel('PetalLengthCm')\n",
        "plt.show()"
      ],
      "execution_count": null,
      "outputs": []
    },
    {
      "cell_type": "markdown",
      "metadata": {
        "id": "qkTthax_rEs6"
      },
      "source": [
        "### graph for SepalLengthCm SepalWidthCm PetalWidthCm\n"
      ]
    },
    {
      "cell_type": "code",
      "metadata": {
        "id": "G8k9IXWdisGT"
      },
      "source": [
        "figcl=plt.figure(figsize=(21,15))\n",
        "axcl=plt.axes(projection='3d')\n",
        "axcl.scatter(data2['SepalLengthCm'],data2['SepalWidthCm'],data2['PetalWidthCm'],c=data2.color)\n",
        "axcl.set_xlabel('SepalLengthCm')\n",
        "axcl.set_ylabel('SepalWidthCm')\n",
        "axcl.set_zlabel('PetalWidthCm')\n",
        "plt.show()"
      ],
      "execution_count": null,
      "outputs": []
    },
    {
      "cell_type": "markdown",
      "metadata": {
        "id": "xFlh70R0rLaU"
      },
      "source": [
        "### graph for PetalWidthCm SepalWidthCm PetalLengthCm  \n"
      ]
    },
    {
      "cell_type": "code",
      "metadata": {
        "id": "2Ubwf3wOiu2k"
      },
      "source": [
        "figcl=plt.figure(figsize=(21,15))\n",
        "axcl=plt.axes(projection='3d')\n",
        "axcl.scatter(data2['PetalWidthCm'],data2['SepalWidthCm'],data2['PetalLengthCm'],c=data2.color)\n",
        "axcl.set_xlabel('PetalWidthCm')\n",
        "axcl.set_ylabel('SepalWidthCm')\n",
        "axcl.set_zlabel('PetalLengthCm')\n",
        "plt.show()"
      ],
      "execution_count": null,
      "outputs": []
    },
    {
      "cell_type": "markdown",
      "metadata": {
        "id": "yKUItnOjo27X"
      },
      "source": [
        "# space"
      ]
    },
    {
      "cell_type": "code",
      "metadata": {
        "id": "PJQ27gMmo27X"
      },
      "source": [
        "'''\n",
        ".\n",
        ".\n",
        ".\n",
        ".\n",
        ".\n",
        ".\n",
        ".\n",
        ".\n",
        ".\n",
        ".\n",
        ".\n",
        ".\n",
        ".\n",
        ".\n",
        ".\n",
        ".\n",
        ".\n",
        ".\n",
        ".\n",
        ".\n",
        ".\n",
        ".\n",
        ".\n",
        ".\n",
        ".\n",
        ".\n",
        "'''"
      ],
      "execution_count": null,
      "outputs": []
    },
    {
      "cell_type": "markdown",
      "metadata": {
        "id": "DrsgqQHbPNkH"
      },
      "source": [
        "#task 6 Prediction using Decision Tree Algorithm"
      ]
    },
    {
      "cell_type": "markdown",
      "metadata": {
        "id": "KhYEMHrXsqjK"
      },
      "source": [
        "## **for this task there are 6 sections as follows :\n",
        "## 1)data importing with pandas\n",
        "## 2) checking for outliers\n",
        "## 3) making dependent and independent values\n",
        "## 4) creating and fitting Decision tree Classifier model\n",
        "## 5) evaluation of the test\n",
        "## 6) tree building\n",
        "### **the following are the neccessary packages for the task"
      ]
    },
    {
      "cell_type": "code",
      "metadata": {
        "id": "jQL1h1Lyrx8M"
      },
      "source": [
        "import pandas as pd\n",
        "from sklearn.model_selection import train_test_split\n",
        "from sklearn.tree import DecisionTreeClassifier\n",
        "from sklearn import tree\n",
        "import matplotlib.pyplot as plt"
      ],
      "execution_count": null,
      "outputs": []
    },
    {
      "cell_type": "markdown",
      "metadata": {
        "id": "zxGeBYVgsxLO"
      },
      "source": [
        "## 1)data importing with pandas\n"
      ]
    },
    {
      "cell_type": "code",
      "metadata": {
        "id": "qcUY9tUpX-vX"
      },
      "source": [
        "data3=pd.read_csv('Iris.csv')\n",
        "data3"
      ],
      "execution_count": null,
      "outputs": []
    },
    {
      "cell_type": "markdown",
      "metadata": {
        "id": "7hRQsgpptHNF"
      },
      "source": [
        "## 2) checking for outliers\n"
      ]
    },
    {
      "cell_type": "code",
      "metadata": {
        "id": "nmxdiQ5FZ_z8"
      },
      "source": [
        "figcls,axcls =  plt.subplots(1,2)\n",
        "axcls[0].boxplot(data3['SepalLengthCm'])\n",
        "axcls[1].boxplot(data3['SepalWidthCm'])\n",
        "axcls[0].set_title('SepalLengthCm')\n",
        "axcls[1].set_title('SepalWidthCm')\n",
        "plt.show()"
      ],
      "execution_count": null,
      "outputs": []
    },
    {
      "cell_type": "markdown",
      "metadata": {
        "id": "RswuBEBytN9s"
      },
      "source": [
        "***outliers exists***"
      ]
    },
    {
      "cell_type": "code",
      "metadata": {
        "id": "2uIy8JdMaBnq"
      },
      "source": [
        "figcls,axcls =  plt.subplots(1,2)\n",
        "axcls[0].boxplot(data3['PetalLengthCm'])\n",
        "axcls[1].boxplot(data3['PetalWidthCm'])\n",
        "axcls[0].set_title('PetalLengthCm')\n",
        "axcls[1].set_title('PetalWidthCm')\n",
        "plt.show()"
      ],
      "execution_count": null,
      "outputs": []
    },
    {
      "cell_type": "markdown",
      "metadata": {
        "id": "D1FtlGIutTnU"
      },
      "source": [
        "***removing outliers***"
      ]
    },
    {
      "cell_type": "code",
      "metadata": {
        "id": "h653XJHOaBgL"
      },
      "source": [
        "q1cls=data3['SepalWidthCm'].quantile(0.25)\n",
        "q3cls=data3['SepalWidthCm'].quantile(0.75)\n",
        "iqrcls=q3cls-q1cls\n",
        "mincls=q1cls-(1*iqrcls)\n",
        "maxcls=q3cls+(1*iqrcls)\n",
        "print(mincls,maxcls)"
      ],
      "execution_count": null,
      "outputs": []
    },
    {
      "cell_type": "code",
      "metadata": {
        "id": "K7E_0wKjahHg"
      },
      "source": [
        "data3=data3[data3['SepalWidthCm']>=mincls]\n",
        "data3=data3[data3['SepalWidthCm']<=maxcls]\n",
        "#data3"
      ],
      "execution_count": null,
      "outputs": []
    },
    {
      "cell_type": "markdown",
      "metadata": {
        "id": "4JrFY3eptYFI"
      },
      "source": [
        "***data after removing outliers***"
      ]
    },
    {
      "cell_type": "code",
      "metadata": {
        "id": "My6TsIR0aBSF"
      },
      "source": [
        "figcls,axcls =  plt.subplots(1,2)\n",
        "axcls[0].boxplot(data3['SepalLengthCm'])\n",
        "axcls[1].boxplot(data3['SepalWidthCm'])\n",
        "axcls[0].set_title('SepalLengthCm')\n",
        "axcls[1].set_title('SepalWidthCm')\n",
        "plt.show()"
      ],
      "execution_count": null,
      "outputs": []
    },
    {
      "cell_type": "code",
      "metadata": {
        "id": "STefvLhqaBFE"
      },
      "source": [
        "figcls,axcls =  plt.subplots(1,2)\n",
        "axcls[0].boxplot(data3['PetalLengthCm'])\n",
        "axcls[1].boxplot(data3['PetalWidthCm'])\n",
        "axcls[0].set_title('PetalLengthCm')\n",
        "axcls[1].set_title('PetalWidthCm')\n",
        "plt.show()"
      ],
      "execution_count": null,
      "outputs": []
    },
    {
      "cell_type": "markdown",
      "metadata": {
        "id": "lACRX_R6te-e"
      },
      "source": [
        "## 3) spliting the data into train and test\n"
      ]
    },
    {
      "cell_type": "code",
      "metadata": {
        "id": "dObHj1bOYDIv"
      },
      "source": [
        "clsxtrain,clsxtest,clsytrain,clsytest=train_test_split(data3.iloc[:,1:-1].values,\n",
        "                                                      data3.iloc[:,-1:],test_size=0.3,random_state=1)"
      ],
      "execution_count": null,
      "outputs": []
    },
    {
      "cell_type": "markdown",
      "metadata": {
        "id": "PUfcRHWjtlVl"
      },
      "source": [
        "## 4) creating and fitting Decision tree Classifier model\n"
      ]
    },
    {
      "cell_type": "code",
      "metadata": {
        "id": "_ohIE9IBZ4ar"
      },
      "source": [
        "cls1=DecisionTreeClassifier().fit(clsxtrain,clsytrain)\n",
        "cls1"
      ],
      "execution_count": null,
      "outputs": []
    },
    {
      "cell_type": "markdown",
      "metadata": {
        "id": "vVky8Ye6t3SW"
      },
      "source": [
        "## 5) evaluation of the test\n"
      ]
    },
    {
      "cell_type": "code",
      "metadata": {
        "id": "rhcsRFmPZ6Xf"
      },
      "source": [
        "predcls=cls1.predict(clsxtest)"
      ],
      "execution_count": null,
      "outputs": []
    },
    {
      "cell_type": "code",
      "metadata": {
        "id": "TfKAatjlFP0C"
      },
      "source": [
        "acc1 = round(metrics.accuracy_score(clsytest, predcls),3)\n",
        "print('decision tree pred : ',acc1)"
      ],
      "execution_count": null,
      "outputs": []
    },
    {
      "cell_type": "markdown",
      "metadata": {
        "id": "8HapAYaZt-m6"
      },
      "source": [
        "***result gave 100% accuracy***"
      ]
    },
    {
      "cell_type": "markdown",
      "metadata": {
        "id": "Oppy2Dm7uFuu"
      },
      "source": [
        "## 6) tree building"
      ]
    },
    {
      "cell_type": "markdown",
      "metadata": {
        "id": "13ohzomGuLMy"
      },
      "source": [
        "### text tree"
      ]
    },
    {
      "cell_type": "code",
      "metadata": {
        "id": "F02RUW8DbN-8"
      },
      "source": [
        "sda=tree.export_text(cls1,feature_names=['SepalLengthCm'\t,'SepalWidthCm'\t,'PetalLengthCm'\t,'PetalWidthCm'\t])\n",
        "print(sda)"
      ],
      "execution_count": null,
      "outputs": []
    },
    {
      "cell_type": "markdown",
      "metadata": {
        "id": "IqTNxXesuRiI"
      },
      "source": [
        "### plot tree"
      ]
    },
    {
      "cell_type": "code",
      "metadata": {
        "id": "HvYShEWldyFe"
      },
      "source": [
        "figcls = plt.figure(figsize=(21,16))\n",
        "tree.plot_tree(cls1,feature_names=['SepalLengthCm'\t,'SepalWidthCm'\t,'PetalLengthCm'\t,'PetalWidthCm'\t],filled=True)\n",
        "plt.show()"
      ],
      "execution_count": null,
      "outputs": []
    }
  ]
}